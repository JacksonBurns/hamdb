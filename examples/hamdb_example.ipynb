{
 "cells": [
  {
   "cell_type": "markdown",
   "metadata": {},
   "source": [
    "# Solving Transition States for Heavy Metals and Monomers Database with pyscf (REWRITE IN PYSCF)\n",
    "\n",
    "Requires:\n",
    " - pyscf\n",
    " - numpy\n",
    " - geometric\n",
    " - https://github.com/pyscf/qsdopt\n",
    "\n",
    "\n",
    "TODO:\n",
    " - look at the [solvation methods documentation](https://pyscf.org/user/solvent.html#introduction) to add consideration for the water that this system would normally be solvated in\n",
    "\n",
    " # check for unit consistency!"
   ]
  },
  {
   "cell_type": "code",
   "execution_count": 1,
   "id": "c71ab290",
   "metadata": {},
   "outputs": [],
   "source": [
    "import os\n",
    "import json\n",
    "from datetime import datetime\n",
    "\n",
    "os.environ[\"OMP_NUM_THREADS\"] = \"8\"  # 8 threads\n",
    "os.environ[\"PYSCF_MAX_MEMORY\"] = \"30000\"  # 30 GB memory\n",
    "\n",
    "FUNCTIONAL = \"HF\"  #  shortcut, eventually use 'B3LYP'\n",
    "BASIS_SET = \"LANL2DZ\"  # shortcut, eventually use 'def2-QZVP'\n",
    "LEVEL_OF_THEORY = FUNCTIONAL + \"/\" + BASIS_SET"
   ]
  },
  {
   "cell_type": "markdown",
   "metadata": {},
   "source": [
    "Function to load the molecules as a PySCF molecule from an xyz file"
   ]
  },
  {
   "cell_type": "code",
   "execution_count": 2,
   "metadata": {},
   "outputs": [],
   "source": [
    "from pyscf import gto\n",
    "\n",
    "def get_molecule(fname):\n",
    "    return gto.M(atom=fname, basis=BASIS_SET)"
   ]
  },
  {
   "cell_type": "code",
   "execution_count": 3,
   "metadata": {},
   "outputs": [],
   "source": [
    "chitosan_monomer = get_molecule(\"structures/chitosan_monomer.xyz\")\n",
    "chitosan_monomer.charge, chitosan_monomer.spin = 0, 0\n",
    "cadmium = get_molecule(\"structures/cadmium.xyz\")\n",
    "cadmium.charge, cadmium.spin = 2, 0\n",
    "combined_starting_materials = get_molecule(\"structures/combined_starting_materials.xyz\")\n",
    "combined_starting_materials.charge, combined_starting_materials.spin = 2, 0\n",
    "product = get_molecule(\"structures/chitosan_monomer_with_cadmium.xyz\")\n",
    "product.charge, product.spin = 2, 0\n",
    "ts_guess = get_molecule(\"structures/ts_guess.xyz\")\n",
    "ts_guess.charge, ts_guess.spin = 2, 0\n",
    "\n",
    "data_dict = {\n",
    "    # \"chitosan_monomer\": {\"pyscf_molecule\": chitosan_monomer, \"is_ts\": False},\n",
    "    # \"cadmium\": {\"pyscf_molecule\": cadmium, \"is_ts\": False},\n",
    "    # \"starting_materials\": {\"pyscf_molecule\": combined_starting_materials, \"is_ts\": False},\n",
    "    # \"product\": {\"pyscf_molecule\": product, \"is_ts\": False},\n",
    "    \"ts_guess\": {\"pyscf_molecule\": ts_guess, \"is_ts\": True},\n",
    "}"
   ]
  },
  {
   "cell_type": "markdown",
   "metadata": {},
   "source": [
    "Optimization and Solving of Wavefunction\n",
    "\n",
    "__later upgrade this to a DFT method__\n",
    "\n",
    "Uses a different method for transition states as suggested in the [pyscf documentation](https://pyscf.org/user/geomopt.html#transition-state-optimization)"
   ]
  },
  {
   "cell_type": "code",
   "execution_count": 4,
   "metadata": {},
   "outputs": [
    {
     "name": "stderr",
     "output_type": "stream",
     "text": [
      "/home/jackson/mambaforge/envs/pyscf/lib/python3.11/site-packages/pyscf/dft/libxc.py:771: UserWarning: Since PySCF-2.3, B3LYP (and B3P86) are changed to the VWN-RPA variant, corresponding to the original definition by Stephens et al. (issue 1480) and the same as the B3LYP functional in Gaussian. To restore the VWN5 definition, you can put the setting \"B3LYP_WITH_VWN5 = True\" in pyscf_conf.py\n",
      "  warnings.warn('Since PySCF-2.3, B3LYP (and B3P86) are changed to the VWN-RPA variant, '\n"
     ]
    }
   ],
   "source": [
    "from pyscf import solvent\n",
    "from pyscf.scf import HF\n",
    "from pyscf.geomopt.geometric_solver import optimize\n",
    "from pyscf.qsdopt.qsd_optimizer import QSD\n",
    "\n",
    "def optfreq(mol, is_ts=False):\n",
    "    mol_eq = None\n",
    "    if mol.natm > 1:\n",
    "        mean_field = mol.HF(  # hartree-fock\n",
    "            mol,\n",
    "            # xc=FUNCTIONAL, <-- add back for DFT upgrade\n",
    "        ).ddCOSMO()\n",
    "        if is_ts:\n",
    "            optimizer = QSD(mean_field, stationary_point=\"TS\")\n",
    "            optimizer.kernel()\n",
    "            mol_eq = mol\n",
    "        else:\n",
    "            mol_eq = optimize(mean_field, maxsteps=100, prefix=mol.output)\n",
    "    else:\n",
    "        # skip optimization for monatomics\n",
    "        mol_eq = mol\n",
    "    # solve wavefunction - re-initalize with new geometry\n",
    "    mean_field_eq = mol_eq.HF(\n",
    "        mol_eq,\n",
    "        # xc=FUNCTIONAL, <-- add back for DFT upgrade\n",
    "    ).ddCOSMO()\n",
    "    mean_field_eq.kernel(dm0=None)  # No initial guess for density matrix\n",
    "    return mean_field_eq"
   ]
  },
  {
   "cell_type": "markdown",
   "metadata": {},
   "source": [
    "Solve for the thermochemistry, see [this tutorial from pyscf's GitHub](https://github.com/pyscf/pyscf/blob/master/examples/hessian/10-thermochemistry.py)"
   ]
  },
  {
   "cell_type": "code",
   "execution_count": 5,
   "metadata": {},
   "outputs": [],
   "source": [
    "from pyscf.hessian import thermo\n",
    "\n",
    "def therm(mean_field_eq, temperature_K=298.15, pressure_Pa=101325):\n",
    "    hessian = mean_field_eq.Hessian().kernel()\n",
    "    freq_info = thermo.harmonic_analysis(mean_field_eq.mol, hessian)\n",
    "    thermo_info = thermo.thermo(\n",
    "        mean_field_eq,\n",
    "        freq_info[\"freq_au\"],\n",
    "        temperature_K,\n",
    "        pressure_Pa,\n",
    "    )\n",
    "    return thermo_info"
   ]
  },
  {
   "cell_type": "markdown",
   "metadata": {},
   "source": [
    "Iterate through all the species and call the appropriate functions, saving the outputs as we go"
   ]
  },
  {
   "cell_type": "code",
   "execution_count": 6,
   "metadata": {},
   "outputs": [
    {
     "name": "stdout",
     "output_type": "stream",
     "text": [
      "~~~~~~~~~~~~~~~~~~~~~~~~~~~~~~~~~~~~~~~~~~~~~~~~~~ \n",
      "                Simulating: ts_guess \n",
      " ~~~~~~~~~~~~~~~~~~~~~~~~~~~~~~~~~~~~~~~~~~~~~~~~~~\n",
      "output file: logfiles/ts_guess-20231106-171127.log\n"
     ]
    },
    {
     "name": "stderr",
     "output_type": "stream",
     "text": [
      "/home/jackson/mambaforge/envs/pyscf/lib/python3.11/site-packages/pyscf/lib/misc.py:609: UserWarning: method set() only supports keyword arguments.\n",
      "Arguments <pyscf.gto.mole.Mole object at 0x7f343ba9a810> are ignored.\n",
      "  warnings.warn('method set() only supports keyword arguments.\\n'\n"
     ]
    }
   ],
   "source": [
    "for name, data in data_dict.items():\n",
    "    print(\"~\" * 50, \"\\n\", \" \" * 15 + \"Simulating:\", name, \"\\n\", \"~\" * 50, flush=True)\n",
    "    data[\"pyscf_molecule\"].output = \"logfiles/\" + name + \"-\" + datetime.now().strftime(\"%Y%m%d-%H%M%S\") + \".log\"\n",
    "    data[\"pyscf_molecule\"].verbose = 4\n",
    "    data[\"pyscf_molecule\"].build()  # make the above logging changes take affect\n",
    "    mean_field_eq = optfreq(data[\"pyscf_molecule\"], data[\"is_ts\"])\n",
    "    data[\"mean_field_eq\"] = mean_field_eq\n",
    "    thermoinfo = therm(mean_field_eq)\n",
    "    data[\"therminfo\"] = thermoinfo"
   ]
  },
  {
   "cell_type": "markdown",
   "metadata": {},
   "source": [
    "Later add IRC for the Transition States (?)"
   ]
  },
  {
   "cell_type": "code",
   "execution_count": null,
   "metadata": {},
   "outputs": [],
   "source": [
    "print(json.dumps(data, indent=4, default=lambda _: \"<not serializble>\"))"
   ]
  }
 ],
 "metadata": {
  "kernelspec": {
   "display_name": "Python 3 (ipykernel)",
   "language": "python",
   "name": "python3"
  },
  "language_info": {
   "codemirror_mode": {
    "name": "ipython",
    "version": 3
   },
   "file_extension": ".py",
   "mimetype": "text/x-python",
   "name": "python",
   "nbconvert_exporter": "python",
   "pygments_lexer": "ipython3",
   "version": "3.11.0"
  }
 },
 "nbformat": 4,
 "nbformat_minor": 5
}
